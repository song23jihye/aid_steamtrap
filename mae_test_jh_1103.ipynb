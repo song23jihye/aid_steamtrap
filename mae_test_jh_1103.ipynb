{
  "cells": [
    {
      "cell_type": "markdown",
      "metadata": {
        "id": "view-in-github",
        "colab_type": "text"
      },
      "source": [
        "<a href=\"https://colab.research.google.com/github/song23jihye/aid_steamtrap/blob/master/mae_test_jh_1103.ipynb\" target=\"_parent\"><img src=\"https://colab.research.google.com/assets/colab-badge.svg\" alt=\"Open In Colab\"/></a>"
      ]
    },
    {
      "cell_type": "code",
      "source": [
        "from google.colab import drive\n",
        "drive.mount('/content/drive')"
      ],
      "metadata": {
        "colab": {
          "base_uri": "https://localhost:8080/"
        },
        "id": "MCcZPu3UV71K",
        "outputId": "93fc662c-0e6c-454e-ddc5-14af41c44442"
      },
      "id": "MCcZPu3UV71K",
      "execution_count": null,
      "outputs": [
        {
          "output_type": "stream",
          "name": "stdout",
          "text": [
            "Mounted at /content/drive\n"
          ]
        }
      ]
    },
    {
      "cell_type": "code",
      "source": [
        "#모듈 사용\n",
        "\n",
        "import os\n",
        "os.chdir('/content/drive/MyDrive/steam_trap_project')"
      ],
      "metadata": {
        "id": "MLtFUHTBxY8X"
      },
      "id": "MLtFUHTBxY8X",
      "execution_count": null,
      "outputs": []
    },
    {
      "cell_type": "code",
      "source": [
        "import torch\n",
        "import copy\n",
        "import numpy as np\n",
        "import pandas as pd\n",
        "import seaborn as sns\n",
        "from pylab import rcParams\n",
        "import matplotlib.pyplot as plt\n",
        "import os\n",
        "import math\n",
        "from torch.nn.parameter import Parameter\n",
        "#from matplotlib import rcb\n",
        "\n",
        "from torchvision.transforms import transforms\n",
        "from sklearn.model_selection import train_test_split\n",
        "from torch import nn, optim\n",
        "from PIL import Image\n",
        "import torch.nn.functional as F\n",
        "from torch.utils.data import Dataset,DataLoader\n",
        "from models.entropy_loss import EntropyLossEncap\n",
        "from models.memae_2dmlp_conv import AutoEncoderCov2DMem\n",
        "from sklearn.preprocessing import MinMaxScaler\n",
        "from models.memory_module_series import MemModule\n",
        "sns.set(style='whitegrid', palette='muted', font_scale=1.2)\n",
        "HAPPY_COLORS_PALETTE = [\"#01BEFE\", \"#FFDD00\", \"#FF7D00\", \"#FF006D\", \"#ADFF02\", \"#8F00FF\"]\n",
        "sns.set_palette(sns.color_palette(HAPPY_COLORS_PALETTE))\n",
        "rcParams['figure.figsize'] = 15, 8"
      ],
      "metadata": {
        "id": "zL5JFcNFFTqZ"
      },
      "id": "zL5JFcNFFTqZ",
      "execution_count": null,
      "outputs": []
    },
    {
      "cell_type": "code",
      "execution_count": null,
      "id": "258515a6",
      "metadata": {
        "id": "258515a6"
      },
      "outputs": [],
      "source": [
        "class opt():\n",
        "    channels=1\n",
        "    img_size=256\n",
        "    lr = 1e-4\n",
        "    n_epochs = 50\n",
        "    batch_size=4\n",
        "    chnum_in_ = 1     # channel number of the input images\n",
        "    mem_dim_in = 2000\n",
        "    entropy_loss_weight = 0.0002\n",
        "    sparse_shrink_thres = 0.0025\n",
        "    series_w = 1*(0.095/0.015)\n",
        "    seed=42"
      ]
    },
    {
      "cell_type": "markdown",
      "source": [
        "#데이터 로드 & split training set and part of test set in normal samples"
      ],
      "metadata": {
        "id": "0wYUW58yyRdF"
      },
      "id": "0wYUW58yyRdF"
    },
    {
      "cell_type": "code",
      "execution_count": null,
      "id": "a8dc4822",
      "metadata": {
        "id": "a8dc4822"
      },
      "outputs": [],
      "source": [
        "#전처리\n",
        "np.random.seed(opt.seed)\n",
        "torch.manual_seed(opt.seed)\n",
        "device = torch.device(\"cuda\" if torch.cuda.is_available() else \"cpu\")\n",
        "\n",
        "df_normal_vibration = pd.read_csv('./CWRU/normal_data.csv',header=None) #S3에서 읽어오기\n",
        "df_anormal_vibration = pd.read_csv('./CWRU/abnormal_data.csv',header=None) #S3에서 읽어오기\n",
        "\n",
        "for col in df_normal_vibration.columns:\n",
        "    df_normal_vibration[col] = pd.to_numeric(df_normal_vibration[col], errors='coerce') #to_numeric?\n",
        "for col in df_anormal_vibration.columns:\n",
        "    df_anormal_vibration[col] = pd.to_numeric(df_anormal_vibration[col], errors='coerce') #to_numeric?\n",
        "df_all = pd.concat([df_normal_vibration, df_anormal_vibration], ignore_index=True) #정상과 비정상 concat\n",
        "\n",
        "normal_num = len(df_normal_vibration) #정상 갯수\n",
        "abnormal_num = len(df_anormal_vibration) #비정상 갯수\n",
        "\n",
        "#df_normal_vibration과 df_anormal_vibration"
      ]
    },
    {
      "cell_type": "code",
      "source": [
        "#-----------------훈련-train_test_split, concat------------\n",
        "train_df, test_df = train_test_split(\n",
        "  df_normal_vibration,\n",
        "  test_size=0.2,\n",
        "  random_state=opt.seed)\n",
        "print(f\"train_df의 len:{len(train_df)}\")\n",
        "\n",
        "test_df = pd.concat([test_df, df_anormal_vibration], ignore_index=True)\n",
        "#----------------------------------------------------------"
      ],
      "metadata": {
        "id": "3hz0c8TIX35e",
        "colab": {
          "base_uri": "https://localhost:8080/"
        },
        "outputId": "734f2b63-e675-4c36-967b-c57b4c7eae43"
      },
      "id": "3hz0c8TIX35e",
      "execution_count": 32,
      "outputs": [
        {
          "output_type": "stream",
          "name": "stdout",
          "text": [
            "train_df의 len:303\n"
          ]
        }
      ]
    },
    {
      "cell_type": "markdown",
      "source": [
        "#이미지 불러오기? 이게 필요한가? 훈련에만 필요한 거 아님?"
      ],
      "metadata": {
        "id": "m3KggzxtY91n"
      },
      "id": "m3KggzxtY91n"
    },
    {
      "cell_type": "code",
      "source": [
        "#Reading processed images\n",
        "normal_path = \"./CWRU/normal_img\"\n",
        "test_path = \"./CWRU/unseen_img\"\n",
        "normal_data = []\n",
        "normal_label = [] #라벨?\n",
        "test_data = []\n",
        "test_label = [] #***is the test set label(0 or 1)***\n",
        "\n",
        "for filename in os.listdir(normal_path):\n",
        "    if filename.endswith(\".jpg\"):\n",
        "        img_path = os.path.join(normal_path, filename)\n",
        "        img = Image.open(img_path)\n",
        "        img = img.convert('L')\n",
        "        img = img.resize((opt.img_size, opt.img_size))\n",
        "        normal_data.append(img)\n",
        "        normal_label.append(0)\n",
        "num_normal = 0\n",
        "num_abnormal = 0\n",
        "\n",
        "# Get a list of all .jpg filenames\n",
        "jpg_filenames = [filename for filename in os.listdir(test_path) if filename.endswith(\".jpg\")]\n",
        "\n",
        "# Sort the filenames based on the integer value from int(filename.split('_')[0])\n",
        "sorted_filenames = sorted(jpg_filenames, key=lambda filename: int(filename.split('_')[0]))\n",
        "\n",
        "for filename in sorted_filenames:\n",
        "    img_path = os.path.join(test_path, filename)\n",
        "    img = Image.open(img_path)\n",
        "    img = img.convert('L')\n",
        "    img = img.resize((opt.img_size, opt.img_size))\n",
        "    test_data.append(img)\n",
        "    label = int(filename.split('_')[1][0])\n",
        "    if label == 0:\n",
        "        num_normal += 1\n",
        "    else:\n",
        "        num_abnormal += 1\n",
        "    test_label.append(label)"
      ],
      "metadata": {
        "id": "wV_zk0vlX8At"
      },
      "id": "wV_zk0vlX8At",
      "execution_count": 26,
      "outputs": []
    },
    {
      "cell_type": "markdown",
      "source": [
        "#스펙트럼 계수 계산"
      ],
      "metadata": {
        "id": "zx-ZD6LMXSp9"
      },
      "id": "zx-ZD6LMXSp9"
    },
    {
      "cell_type": "code",
      "source": [
        "#spectral entrophy 계산 for the training set, independent of read data--------------------------------------------\n",
        "import numpy as np\n",
        "from scipy.fft import fft\n",
        "\n",
        "def spectral_entropy(signal, normalize=False):\n",
        "    # Using FFT to calculate the spectrum of signals\n",
        "    freq_domain = fft(signal)\n",
        "    # 스펙트럼의 진폭을 계산하고 복잡한 부분을 제거합니다\n",
        "    magnitude = np.abs(freq_domain)\n",
        "    # amplitude normalization\n",
        "    if normalize:\n",
        "        magnitude = magnitude / np.sum(magnitude)\n",
        "    # computational spectral entropy\n",
        "    entropy = -np.sum(magnitude*np.log2(magnitude + np.finfo(float).eps))\n",
        "    return entropy"
      ],
      "metadata": {
        "id": "qrYX0fZRXVt3"
      },
      "id": "qrYX0fZRXVt3",
      "execution_count": 36,
      "outputs": []
    },
    {
      "cell_type": "code",
      "source": [
        "#엔트로피_train, test\n",
        "#train_entropies = []\n",
        "test_entropies = []\n",
        "for i in range(test_df.shape[0]): #testdata의 entropy 계산\n",
        "    row_data = test_df.iloc[i].values  # iloc을 사용하여 line i의 값을 구하고 NumPy 배열로 변환합니다\n",
        "    entropy = spectral_entropy(row_data, normalize=True)\n",
        "    test_entropies.append(entropy)\n",
        "\n",
        "# for i in range(train_df.shape[0]): #traindata의 entropy계산\n",
        "#     row_data = train_df.iloc[i].values  # iloc를 사용하여 i번째 행의 값을 가져오고 NumPy 배열로 변환합니다.\n",
        "#     entropy = spectral_entropy(row_data, normalize=True)\n",
        "#     train_entropies.append(entropy)\n",
        "# average_entropy = np.mean(train_entropies)\n",
        "\n",
        "#print(f\"train_dataset의 평균 스펙트럼 엔트로피는 {average_entropy}입니다.\")\n",
        "#-----------------------------------------------------------------------------------------------------------------#"
      ],
      "metadata": {
        "id": "jh3p_om2nDQY"
      },
      "id": "jh3p_om2nDQY",
      "execution_count": 37,
      "outputs": []
    },
    {
      "cell_type": "code",
      "source": [
        "average_entropy = np.mean(test_entropies)\n",
        "print(f\"test_dataset의 평균 스펙트럼 엔트로피는 {average_entropy}입니다.\")"
      ],
      "metadata": {
        "colab": {
          "base_uri": "https://localhost:8080/"
        },
        "id": "Mc7StKXtnU7u",
        "outputId": "f779ebc9-1fe8-4ee0-fc94-20d47c784193"
      },
      "id": "Mc7StKXtnU7u",
      "execution_count": 38,
      "outputs": [
        {
          "output_type": "stream",
          "name": "stdout",
          "text": [
            "test_dataset의 평균 스펙트럼 엔트로피는 7.829500717005006입니다.\n"
          ]
        }
      ]
    },
    {
      "cell_type": "markdown",
      "source": [
        "#Recalling Fig.8 and 9. Wrapping data into data_loader"
      ],
      "metadata": {
        "id": "K3Ys3sIrU_mB"
      },
      "id": "K3Ys3sIrU_mB"
    },
    {
      "cell_type": "code",
      "execution_count": 33,
      "id": "063fb465",
      "metadata": {
        "id": "063fb465"
      },
      "outputs": [],
      "source": [
        "class TimeSeriesDataset(Dataset):\n",
        "    def __init__(self, sequences,img,labels=None,transform=None):\n",
        "        self.sequences = sequences\n",
        "        self.transform = transform\n",
        "        self.img = img\n",
        "        self.labels = labels\n",
        "    def __len__(self):\n",
        "        return len(self.sequences)\n",
        "\n",
        "    def __getitem__(self, index):\n",
        "        img = self.img[index]\n",
        "        labels = self.labels[index]\n",
        "\n",
        "        if self.transform:\n",
        "            img = self.transform(img)\n",
        "        return self.sequences[index],img,labels\n",
        "\n",
        "mean = [0.5]\n",
        "std = [0.5]\n",
        "def create_train_data_loader(df, batch_size,img,labels):\n",
        "    sequences = df.astype(np.float32).to_numpy().tolist()\n",
        "    dataset = TimeSeriesDataset([torch.tensor(s).unsqueeze(1).float() for s in sequences],img,labels,transform=transforms.Compose(\n",
        "                                    [\n",
        "                                     transforms.ToTensor(),\n",
        "                                     transforms.Normalize(mean=mean, std=std)]))\n",
        "    return DataLoader(dataset, batch_size=batch_size, shuffle=False,drop_last=False)\n",
        "\n",
        "def create_test_data_loader(df,batch_size,img,labels):\n",
        "    sequences = df.astype(np.float32).to_numpy().tolist()\n",
        "    dataset = TimeSeriesDataset([torch.tensor(s).unsqueeze(1).float() for s in sequences],img,labels,transform=transforms.Compose(\n",
        "                                    [\n",
        "                                     transforms.ToTensor(),\n",
        "                                     transforms.Normalize(mean=mean, std=std)]))\n",
        "    return DataLoader(dataset, batch_size=batch_size, shuffle=False)\n",
        "\n",
        "train_dataloader = create_train_data_loader(train_df, 1, normal_data, normal_label) #훈련 아니니까 사용x\n",
        "test_dataloader = create_test_data_loader(test_df, 1 , test_data, test_label) # 얘만 사용"
      ]
    },
    {
      "cell_type": "markdown",
      "source": [
        "#Encoder, Decoder, AutoEncoder 클래스"
      ],
      "metadata": {
        "id": "_ixcQ8vQZo3V"
      },
      "id": "_ixcQ8vQZo3V"
    },
    {
      "cell_type": "code",
      "execution_count": null,
      "id": "d0246f89",
      "metadata": {
        "id": "d0246f89"
      },
      "outputs": [],
      "source": [
        "# Modified Encoder with Fully Connected Layers\n",
        "class Encoder1(nn.Module):\n",
        "    def __init__(self, seq_len, n_features, embedding_dim=128,dropout_prob=0.0):\n",
        "        super(Encoder1, self).__init__()\n",
        "        self.seq_len = seq_len\n",
        "        self.n_features = n_features\n",
        "        self.embedding_dim = embedding_dim\n",
        "        self.hidden_dim = 2 * embedding_dim\n",
        "        self.dropout = nn.Dropout(dropout_prob)\n",
        "        # You might need to adjust the sizes here to fit your needs.\n",
        "        self.fc1 = nn.Linear(self.n_features, self.hidden_dim) #seq_len * n_features\n",
        "        self.fc2 = nn.Linear(self.hidden_dim, self.embedding_dim * n_features)\n",
        "\n",
        "    def forward(self, x):\n",
        "        try:\n",
        "            B, S, E = x.shape  # B = Batch size, S = Sequence length, E = Feature dim\n",
        "        except:\n",
        "            B = 1\n",
        "        x = x.view(B, -1)  # Flatten the input: shape becomes (B, S*E)\n",
        "        x = x.unsqueeze(-1)\n",
        "        x = F.relu(self.fc1(x))\n",
        "        x = self.dropout(x)\n",
        "        x = F.relu(self.fc2(x))\n",
        "        # Here, we reshape the output to mimic your original Encoder's output shape\n",
        "        x = x.view(B, self.seq_len, self.embedding_dim)\n",
        "        return x\n",
        "\n",
        "\n",
        "# Modified Decoder with Fully Connected Layers\n",
        "class Decoder1(nn.Module):\n",
        "    def __init__(self, seq_len, input_dim=128, n_features=1):\n",
        "        super(Decoder1, self).__init__()\n",
        "        self.seq_len = seq_len\n",
        "        self.input_dim = input_dim  # Embedding dim from Encoder\n",
        "        self.hidden_dim = 2 * input_dim  # Mimicking original architecture\n",
        "        self.n_features = n_features  # Usually 1, representing the reconstructed feature\n",
        "        self.fc1 = nn.Linear(self.input_dim * seq_len, self.hidden_dim)\n",
        "        self.fc2 = nn.Linear(self.hidden_dim, seq_len * n_features)\n",
        "        self.output_layer = nn.Linear(seq_len * n_features, seq_len * n_features)\n",
        "\n",
        "    def forward(self, x): #모델 정의\n",
        "        B,E,G = x.shape\n",
        "        #x = x.repeat(1,self.seq_len, self.n_features)\n",
        "        #x = x.reshape((B, self.input_dim,1))\n",
        "        x = x.reshape(B, -1)\n",
        "        x = F.relu(self.fc1(x))\n",
        "        x = F.relu(self.fc2(x))\n",
        "        x = self.output_layer(x)\n",
        "\n",
        "        # Reshape to mimic your original Decoder's output shape\n",
        "        x = x.view(B, self.seq_len, self.n_features)\n",
        "        return x\n",
        "\n",
        "class Autoencoder(nn.Module):\n",
        "    def __init__(self, seq_len, n_features, embedding_dim=64):\n",
        "        super(Autoencoder, self).__init__()\n",
        "        self.encoder = Encoder1(seq_len, n_features, embedding_dim)\n",
        "        self.decoder = Decoder1(seq_len, embedding_dim, n_features)\n",
        "        self.mem_rep = MemModule(mem_dim=500, fea_dim=1280, shrink_thres=0.0025)\n",
        "\n",
        "    def forward(self, x):\n",
        "        x = self.encoder(x)\n",
        "        res_mem = self.mem_rep(x)\n",
        "        x = res_mem['output']\n",
        "        att = res_mem['att']\n",
        "        x = self.decoder(x)\n",
        "        return x, att"
      ]
    },
    {
      "cell_type": "markdown",
      "source": [
        "#predict"
      ],
      "metadata": {
        "id": "LV8W4odVZ2dN"
      },
      "id": "LV8W4odVZ2dN"
    },
    {
      "cell_type": "code",
      "execution_count": 39,
      "id": "eea1bcf5",
      "metadata": {
        "id": "eea1bcf5"
      },
      "outputs": [],
      "source": [
        "def predict(model_series,model_img,dataloader):\n",
        "    entropy_loss_weight=0.0002\n",
        "    predictions, losses = [], []\n",
        "    tr_recon_loss_func = nn.MSELoss().to(device)  ###nn.MSELoss().to(device)#\n",
        "    tr_entropy_loss_func = EntropyLossEncap().to(device)\n",
        "    criterion = nn.MSELoss().to(device)##nn.MSELoss().to(device)\n",
        "    with torch.no_grad():\n",
        "        for batch_idx, (seq_true,frames,labels) in enumerate(dataloader):\n",
        "            frames = frames.to(device)\n",
        "            # frq_entropy = train_entropies[batch_idx]\n",
        "            frq_entropy = test_entropies[batch_idx]\n",
        "            frq_entropy = (frq_entropy+average_entropy)/2\n",
        "            seq_true = seq_true.to(device)\n",
        "            labels = labels.to(device).float()\n",
        "            #print('frames:',frames.shape)\n",
        "            recon_res = model_img(frames)\n",
        "            seq_pred, att_w1 = model_series(seq_true)\n",
        "            recon_frames = recon_res['output']\n",
        "            r_frame = recon_frames - frames\n",
        "            sp_error_map = torch.sum(r_frame**2, dim=1)**0.5\n",
        "            s = sp_error_map.size()\n",
        "            sp_error_vec = sp_error_map.view(s[0], -1)\n",
        "            recon_error_frame = torch.mean(sp_error_vec, dim=-1)\n",
        "            recon_error_series = tr_recon_loss_func(seq_pred, seq_true)\n",
        "            recon_error = frq_entropy*recon_error_frame + opt.series_w*recon_error_series\n",
        "            #predictions.append(img_pred.cpu().numpy().flatten())\n",
        "            losses.append(recon_error.item())\n",
        "    return predictions, losses"
      ]
    },
    {
      "cell_type": "markdown",
      "source": [
        "#모델 load"
      ],
      "metadata": {
        "id": "D1TG05GJW8qG"
      },
      "id": "D1TG05GJW8qG"
    },
    {
      "cell_type": "code",
      "execution_count": 28,
      "id": "70a79401",
      "metadata": {
        "id": "70a79401",
        "colab": {
          "base_uri": "https://localhost:8080/"
        },
        "outputId": "514c3efa-3ee1-4404-c186-262a0357e7df"
      },
      "outputs": [
        {
          "output_type": "stream",
          "name": "stdout",
          "text": [
            "AutoEncoderCov2DMem\n"
          ]
        }
      ],
      "source": [
        "model_series = Autoencoder(seq_len=1280, n_features=1, embedding_dim=400).to(device)\n",
        "model_img = AutoEncoderCov2DMem(opt.chnum_in_, opt.mem_dim_in, shrink_thres=opt.sparse_shrink_thres).to(device)\n",
        "\n",
        "model_series = torch.load('/content/drive/MyDrive/steam_trap_project/mdlpth/mae_vibration_series_model.pth', map_location=device)\n",
        "model_img = torch.load('/content/drive/MyDrive/steam_trap_project/mdlpth/mae_vibration_img_model.pth', map_location=device)\n",
        "\n",
        "model_series.to(device)\n",
        "model_img.to(device)\n",
        "model_series.eval()\n",
        "model_img.eval()"
      ]
    },
    {
      "cell_type": "code",
      "source": [
        "tr_recon_loss_func = nn.MSELoss().to(device)\n",
        "tr_entropy_loss_func = EntropyLossEncap().to(device)\n",
        "entropy_loss_weight = 0.0002\n",
        "#_, losses = predict(model_series,model_img, train_dataloader) #train X\n",
        "_, losses = predict(model_series,model_img, test_dataloader) #test만 사용\n",
        "sns.distplot(losses, bins=150, kde=True);"
      ],
      "metadata": {
        "colab": {
          "base_uri": "https://localhost:8080/",
          "height": 841
        },
        "id": "a_0yrM3UhKKO",
        "outputId": "12fbe2ce-db11-4270-f535-4a5cb470b6a6"
      },
      "id": "a_0yrM3UhKKO",
      "execution_count": 40,
      "outputs": [
        {
          "output_type": "stream",
          "name": "stderr",
          "text": [
            "<ipython-input-40-8544b88fa0a3>:6: UserWarning: \n",
            "\n",
            "`distplot` is a deprecated function and will be removed in seaborn v0.14.0.\n",
            "\n",
            "Please adapt your code to use either `displot` (a figure-level function with\n",
            "similar flexibility) or `histplot` (an axes-level function for histograms).\n",
            "\n",
            "For a guide to updating your code to use the new functions, please see\n",
            "https://gist.github.com/mwaskom/de44147ed2974457ad6372750bbe5751\n",
            "\n",
            "  sns.distplot(losses, bins=150, kde=True);\n"
          ]
        },
        {
          "output_type": "display_data",
          "data": {
            "text/plain": [
              "<Figure size 1500x800 with 1 Axes>"
            ],
            "image/png": "[encoded data removed]"
          },
          "metadata": {}
        }
      ]
    },
    {
      "cell_type": "markdown",
      "source": [
        "#losses 시각화"
      ],
      "metadata": {
        "id": "p6hStjEaXAIN"
      },
      "id": "p6hStjEaXAIN"
    },
    {
      "cell_type": "code",
      "execution_count": null,
      "id": "34d87197-8a07-4f65-9fac-f94058b759d6",
      "metadata": {
        "id": "34d87197-8a07-4f65-9fac-f94058b759d6"
      },
      "outputs": [],
      "source": [
        "df = pd.DataFrame(losses)\n",
        "print(df.describe())\n",
        "df.plot.box(title=\"Box Chart\")\n",
        "plt.grid(linestyle=\"--\", alpha=0.3)\n",
        "plt.show()"
      ]
    },
    {
      "cell_type": "markdown",
      "source": [
        "#정확도?"
      ],
      "metadata": {
        "id": "fANm99oBXHsM"
      },
      "id": "fANm99oBXHsM"
    },
    {
      "cell_type": "code",
      "execution_count": null,
      "id": "8ebc1085",
      "metadata": {
        "id": "8ebc1085"
      },
      "outputs": [],
      "source": [
        "from sklearn.metrics import classification_report\n",
        "from sklearn.metrics import f1_score\n",
        "THRESHOLD =0.78"
      ]
    },
    {
      "cell_type": "code",
      "execution_count": null,
      "id": "242b0762",
      "metadata": {
        "id": "242b0762",
        "outputId": "a267116f-b8a7-4ff6-90df-94b0e0eb8b7d"
      },
      "outputs": [
        {
          "name": "stdout",
          "output_type": "stream",
          "text": [
            "F1 Score:  0.9792387543252596\n",
            "{'Normal': {'precision': 0.9706, 'recall': 0.8684, 'f1-score': 0.9167, 'support': 76.0}, 'Anomaly': {'precision': 0.9659, 'recall': 0.993, 'f1-score': 0.9792, 'support': 285.0}, 'accuracy': 0.9668, 'macro avg': {'precision': 0.9682, 'recall': 0.9307, 'f1-score': 0.948, 'support': 361.0}, 'weighted avg': {'precision': 0.9669, 'recall': 0.9668, 'f1-score': 0.9661, 'support': 361.0}}\n"
          ]
        }
      ],
      "source": [
        "with torch.no_grad():\n",
        "    correct = 0\n",
        "    total = 0\n",
        "    predicted = []\n",
        "    Label=[]\n",
        "    Recon_error_true = []\n",
        "    Recon_error_false = []\n",
        "    num = 0\n",
        "    for batch_idx, (seq_true,frames,labels) in enumerate(test_dataloader): #seq_true : time series data in test_dataloader, #frames : image data in test_dataloader\n",
        "        num+=1\n",
        "        frames = frames.to(device)\n",
        "        frq_entropy = test_entropies[batch_idx]\n",
        "        frq_entropy = (frq_entropy+average_entropy)/2\n",
        "        seq_true = seq_true.to(device)\n",
        "        labels = labels.to(device).float()\n",
        "        #print('frames:',frames.shape)\n",
        "        recon_res = model_img(frames)\n",
        "        seq_pred, att_w1 = model_series(seq_true)\n",
        "        recon_frames = recon_res['output']\n",
        "        r_frame = recon_frames - frames\n",
        "        sp_error_map = torch.sum(r_frame**2, dim=1)**0.5\n",
        "        s = sp_error_map.size()\n",
        "        sp_error_vec = sp_error_map.view(s[0], -1)\n",
        "        recon_error_frame = torch.mean(sp_error_vec, dim=-1)\n",
        "        recon_error_series = tr_recon_loss_func(seq_pred, seq_true)\n",
        "        recon_error = frq_entropy*recon_error_frame + opt.series_w*recon_error_series\n",
        "        if labels == 0:\n",
        "            Recon_error_true.append(recon_error.cpu().numpy())\n",
        "        else:\n",
        "            Recon_error_false.append(recon_error.cpu().numpy())\n",
        "        if recon_error > THRESHOLD:\n",
        "            predicted.append(1)\n",
        "        else:\n",
        "            predicted.append(0)\n",
        "        Label.append(labels.cpu().numpy())\n",
        "    f1 = f1_score(Label, predicted)\n",
        "    print('F1 Score: ', f1)\n",
        "    report = classification_report(Label, predicted, target_names=[\"Normal\", \"Anomaly\"], output_dict=True)\n",
        "    for key, values in report.items():\n",
        "        if isinstance(values, dict):\n",
        "            for sub_key, value in values.items():\n",
        "                report[key][sub_key] = round(value, 4)\n",
        "        else:\n",
        "            report[key] = round(values, 4)\n",
        "\n",
        "    print(report)"
      ]
    },
    {
      "cell_type": "markdown",
      "source": [
        "#결과 시각화?"
      ],
      "metadata": {
        "id": "7ZubqWMXXLcN"
      },
      "id": "7ZubqWMXXLcN"
    },
    {
      "cell_type": "code",
      "execution_count": null,
      "id": "6506a867",
      "metadata": {
        "id": "6506a867",
        "outputId": "ff4d7b50-5296-44ec-e2cf-1c525336a7bb"
      },
      "outputs": [
        {
          "name": "stderr",
          "output_type": "stream",
          "text": [
            "/tmp/ipykernel_784114/4036872239.py:1: UserWarning: \n",
            "\n",
            "`distplot` is a deprecated function and will be removed in seaborn v0.14.0.\n",
            "\n",
            "Please adapt your code to use either `displot` (a figure-level function with\n",
            "similar flexibility) or `histplot` (an axes-level function for histograms).\n",
            "\n",
            "For a guide to updating your code to use the new functions, please see\n",
            "https://gist.github.com/mwaskom/de44147ed2974457ad6372750bbe5751\n",
            "\n",
            "  sns.distplot(Recon_error_true, bins=50, kde=True, label='Normal', color='blue')\n",
            "/tmp/ipykernel_784114/4036872239.py:4: UserWarning: \n",
            "\n",
            "`distplot` is a deprecated function and will be removed in seaborn v0.14.0.\n",
            "\n",
            "Please adapt your code to use either `displot` (a figure-level function with\n",
            "similar flexibility) or `histplot` (an axes-level function for histograms).\n",
            "\n",
            "For a guide to updating your code to use the new functions, please see\n",
            "https://gist.github.com/mwaskom/de44147ed2974457ad6372750bbe5751\n",
            "\n",
            "  sns.distplot(Recon_error_false, bins=50, kde=True, label='Anomaly', color='red')\n"
          ]
        },
        {
          "data": {
            "image/png": "[encoded data removed]",
            "text/plain": [
              "<Figure size 1500x800 with 1 Axes>"
            ]
          },
          "metadata": {},
          "output_type": "display_data"
        }
      ],
      "source": [
        "sns.distplot(Recon_error_true, bins=50, kde=True, label='Normal', color='blue')\n",
        "\n",
        "# Plotting the anomaly dataset predictions\n",
        "sns.distplot(Recon_error_false, bins=50, kde=True, label='Anomaly', color='red')\n",
        "\n",
        "# Adding labels and title to the plot\n",
        "plt.xlabel('Prediction Loss')\n",
        "plt.ylabel('Density')\n",
        "plt.title('Distribution of Prediction Losses for Normal and Abnormal Datasets')\n",
        "\n",
        "# Adding legend\n",
        "plt.legend()\n",
        "\n",
        "# Displaying the plot\n",
        "plt.show()"
      ]
    },
    {
      "cell_type": "markdown",
      "id": "e5fa7fc8-b2fc-46e0-8830-94f39708724f",
      "metadata": {
        "id": "e5fa7fc8-b2fc-46e0-8830-94f39708724f"
      },
      "source": [
        "## Img model only"
      ]
    },
    {
      "cell_type": "code",
      "execution_count": null,
      "id": "b16a2d42-8704-4d73-8888-3a3c43a1af74",
      "metadata": {
        "id": "b16a2d42-8704-4d73-8888-3a3c43a1af74"
      },
      "outputs": [],
      "source": [
        "THRESHOLD = 0.095"
      ]
    },
    {
      "cell_type": "code",
      "execution_count": null,
      "id": "9df6bc24-05f9-410d-b819-76174dfdc65e",
      "metadata": {
        "id": "9df6bc24-05f9-410d-b819-76174dfdc65e"
      },
      "outputs": [],
      "source": [
        "with torch.no_grad():\n",
        "    correct = 0\n",
        "    total = 0\n",
        "    predicted = []\n",
        "    Label=[]\n",
        "    Recon_error_true = []\n",
        "    Recon_error_false = []\n",
        "    num = 0\n",
        "    for batch_idx, (seq_true,frames,labels) in enumerate(test_dataloader):\n",
        "        num+=1\n",
        "        frames = frames.to(device)\n",
        "        seq_true = seq_true.to(device)\n",
        "        labels = labels.to(device).float()\n",
        "        #print('frames:',frames.shape)\n",
        "        recon_res = model_img(frames)\n",
        "        seq_pred, att_w1 = model_series(seq_true)\n",
        "        recon_frames = recon_res['output']\n",
        "        r_frame = recon_frames - frames\n",
        "        sp_error_map = torch.sum(r_frame**2, dim=1)**0.5\n",
        "        s = sp_error_map.size()\n",
        "        sp_error_vec = sp_error_map.view(s[0], -1)\n",
        "        recon_error_frame = torch.mean(sp_error_vec, dim=-1)\n",
        "        recon_error_series = tr_recon_loss_func(seq_pred, seq_true)\n",
        "        recon_error = recon_error_frame #+ opt.series_w*recon_error_series\n",
        "        if labels == 0:\n",
        "            Recon_error_true.append(recon_error.cpu().numpy())\n",
        "        else:\n",
        "            Recon_error_false.append(recon_error.cpu().numpy())\n",
        "        if recon_error > THRESHOLD:\n",
        "            predicted.append(1)\n",
        "        else:\n",
        "            predicted.append(0)\n",
        "        Label.append(labels.cpu().numpy())\n",
        "    f1 = f1_score(Label, predicted)\n",
        "    print('F1 Score: ', f1)\n",
        "    report = classification_report(Label, predicted, target_names=[\"Normal\", \"Anomaly\"], output_dict=True)\n",
        "    for key, values in report.items():\n",
        "        if isinstance(values, dict):\n",
        "            for sub_key, value in values.items():\n",
        "                report[key][sub_key] = round(value, 4)\n",
        "        else:\n",
        "            report[key] = round(values, 4)\n",
        "\n",
        "    print(report)"
      ]
    },
    {
      "cell_type": "code",
      "execution_count": null,
      "id": "f73683a5-bcb5-49ac-a732-9e687d38bce7",
      "metadata": {
        "id": "f73683a5-bcb5-49ac-a732-9e687d38bce7"
      },
      "outputs": [],
      "source": [
        "sns.distplot(Recon_error_true, bins=50, kde=True, label='Normal', color='blue')\n",
        "\n",
        "# Plotting the anomaly dataset predictions\n",
        "sns.distplot(Recon_error_false, bins=50, kde=True, label='Anomaly', color='red')\n",
        "\n",
        "# Adding labels and title to the plot\n",
        "plt.xlabel('Prediction Loss')\n",
        "plt.ylabel('Density')\n",
        "plt.title('Distribution of Prediction Losses for Normal and Abnormal Datasets')\n",
        "\n",
        "# Adding legend\n",
        "plt.legend()\n",
        "\n",
        "# Displaying the plot\n",
        "plt.show()"
      ]
    }
  ],
  "metadata": {
    "kernelspec": {
      "display_name": "Python 3 (ipykernel)",
      "language": "python",
      "name": "python3"
    },
    "language_info": {
      "codemirror_mode": {
        "name": "ipython",
        "version": 3
      },
      "file_extension": ".py",
      "mimetype": "text/x-python",
      "name": "python",
      "nbconvert_exporter": "python",
      "pygments_lexer": "ipython3",
      "version": "3.9.17"
    },
    "colab": {
      "provenance": [],
      "include_colab_link": true
    }
  },
  "nbformat": 4,
  "nbformat_minor": 5
}